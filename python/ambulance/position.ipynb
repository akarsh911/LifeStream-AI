{
 "cells": [
  {
   "cell_type": "code",
   "execution_count": 1,
   "metadata": {},
   "outputs": [],
   "source": [
    "import random\n",
    "import csv\n",
    "\n",
    "patiala_lat = 30.3398\n",
    "patiala_lon = 76.3869\n",
    "\n",
    "num_samples = 1000 \n",
    "accident_locations = []\n",
    "ambulance_locations = []\n",
    "\n",
    "for i in range(num_samples):\n",
    "\n",
    "    lat_offset = random.uniform(-0.05, 0.05)\n",
    "    lon_offset = random.uniform(-0.05, 0.05)\n",
    "    \n",
    "\n",
    "    accident_lat = patiala_lat + lat_offset\n",
    "    accident_lon = patiala_lon + lon_offset\n",
    "    \n",
    "\n",
    "    ambulance_lat_offset = random.uniform(-0.01, 0.01)\n",
    "    ambulance_lon_offset = random.uniform(-0.01, 0.01)\n",
    "    \n",
    "    ambulance_lat = accident_lat + ambulance_lat_offset\n",
    "    ambulance_lon = accident_lon + ambulance_lon_offset\n",
    "    \n",
    "\n",
    "    accident_locations.append([accident_lat, accident_lon])\n",
    "    ambulance_locations.append([ambulance_lat, ambulance_lon])\n",
    "\n",
    "\n",
    "with open('accident_data.csv', 'w', newline='') as csvfile:\n",
    "    writer = csv.writer(csvfile)\n",
    "    writer.writerow(['accident_latitude', 'accident_longitude', 'ambulance_latitude', 'ambulance_longitude'])\n",
    "    for i in range(num_samples):\n",
    "        writer.writerow([accident_locations[i][0], accident_locations[i][1]])\n"
   ]
  },
  {
   "cell_type": "code",
   "execution_count": 3,
   "metadata": {},
   "outputs": [
    {
     "name": "stdout",
     "output_type": "stream",
     "text": [
      "Accuracy: 96.35%\n",
      "Predicted ambulance locations: [[ 41.58116428 -73.74803351]]\n"
     ]
    },
    {
     "name": "stderr",
     "output_type": "stream",
     "text": [
      "c:\\Users\\Akars\\AppData\\Local\\Programs\\Python\\Python39\\lib\\site-packages\\sklearn\\base.py:465: UserWarning: X does not have valid feature names, but LinearRegression was fitted with feature names\n",
      "  warnings.warn(\n"
     ]
    }
   ],
   "source": [
    "import pandas as pd\n",
    "from sklearn.model_selection import train_test_split\n",
    "from sklearn.linear_model import LinearRegression\n",
    "\n",
    "\n",
    "data = pd.read_csv('accident_data.csv')\n",
    "\n",
    "\n",
    "data.drop_duplicates(inplace=True)\n",
    "data.dropna(inplace=True)\n",
    "\n",
    "X = data[['accident_latitude', 'accident_longitude']]\n",
    "y = data[['ambulance_latitude', 'ambulance_longitude']] \n",
    "X_train, X_test, y_train, y_test = train_test_split(X, y, test_size=0.2, random_state=42)\n",
    "\n",
    "\n",
    "model = LinearRegression()\n",
    "model.fit(X_train, y_train)\n",
    "\n",
    "\n",
    "score = model.score(X_test, y_test)\n",
    "print(f\"Accuracy: {score*100:.2f}%\")\n",
    "\n",
    "\n",
    "new_accident_location = [[40.7128, -74.0060]] #\n",
    "predicted_ambulance_locations = model.predict(new_accident_location)\n",
    "print(f\"Predicted ambulance locations: {predicted_ambulance_locations}\")\n"
   ]
  },
  {
   "cell_type": "code",
   "execution_count": 2,
   "metadata": {},
   "outputs": [
    {
     "name": "stderr",
     "output_type": "stream",
     "text": [
      "c:\\Users\\Akars\\AppData\\Local\\Programs\\Python\\Python39\\lib\\site-packages\\sklearn\\cluster\\_kmeans.py:1416: FutureWarning: The default value of `n_init` will change from 10 to 'auto' in 1.4. Set the value of `n_init` explicitly to suppress the warning\n",
      "  super()._check_params_vs_input(X, default_n_init=10)\n"
     ]
    },
    {
     "name": "stdout",
     "output_type": "stream",
     "text": [
      "[[30.33360812 76.37999653 30.33393642 76.38008673]\n",
      " [30.37016564 76.42118713 30.37045209 76.42140582]\n",
      " [30.30729578 76.4023385  30.30699064 76.40238999]\n",
      " [30.37585973 76.35487572 30.37711746 76.35445481]\n",
      " [30.30997837 76.34796422 30.30949029 76.34664837]\n",
      " [30.36921181 76.39098289 30.37078424 76.39100096]\n",
      " [30.30921615 76.42810321 30.30816642 76.42835038]\n",
      " [30.30441046 76.37518902 30.30285261 76.37524116]\n",
      " [30.33881708 76.4187556  30.33820864 76.42019578]\n",
      " [30.34669839 76.35301503 30.34660812 76.35117366]]\n"
     ]
    }
   ],
   "source": [
    "from sklearn.cluster import KMeans\n",
    "import numpy as np\n",
    "\n",
    "data = np.genfromtxt('accident_data.csv', delimiter=',', skip_header=1)\n",
    "# print(data)\n",
    "\n",
    "kmeans = KMeans(n_clusters = 10 , random_state =0).fit(data)\n",
    "\n",
    "Ambulance_locations = kmeans.cluster_centers_\n",
    "print(Ambulance_locations)"
   ]
  }
 ],
 "metadata": {
  "kernelspec": {
   "display_name": "Python 3",
   "language": "python",
   "name": "python3"
  },
  "language_info": {
   "codemirror_mode": {
    "name": "ipython",
    "version": 3
   },
   "file_extension": ".py",
   "mimetype": "text/x-python",
   "name": "python",
   "nbconvert_exporter": "python",
   "pygments_lexer": "ipython3",
   "version": "3.9.0"
  },
  "orig_nbformat": 4,
  "vscode": {
   "interpreter": {
    "hash": "c261aea317cc0286b3b3261fbba9abdec21eaa57589985bb7a274bf54d6cc0a7"
   }
  }
 },
 "nbformat": 4,
 "nbformat_minor": 2
}
